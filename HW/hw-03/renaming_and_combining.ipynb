{
 "cells": [
  {
   "cell_type": "markdown",
   "metadata": {
    "_cell_guid": "b3696a68-f34c-4887-bc69-d40e9a31b2af",
    "_uuid": "538d86e885d712165dcbcd9b854258fd1804c108"
   },
   "source": [
    "**Note:**\n",
    "\n",
    "This set of exercises is taken from the **[Learn Pandas](https://www.kaggle.com/learn/pandas)** series on Kaggle. It is distributed under the [Apache 2.0 license](http://www.apache.org/licenses/LICENSE-2.0). It is only lightly modified for use in this class.\n",
    "\n",
    "# Renaming and combining workbook\n",
    "\n",
    "## Introduction\n",
    "\n",
    "Renaming is covered in its own section in the [\"Essential Basic Functionality\"](https://pandas.pydata.org/pandas-docs/stable/basics.html#renaming-mapping-labels) section of the extensive official documentation. Combining is covered by the [\"Merge, join, concatenate\"](https://pandas.pydata.org/pandas-docs/stable/merging.html) section there."
   ]
  },
  {
   "cell_type": "code",
   "execution_count": null,
   "metadata": {
    "_cell_guid": "8233f418-085f-45db-903a-87a8ca183808",
    "_uuid": "cf820f1d0be911ebf4c7d30a72374c58542cdf58",
    "collapsed": true
   },
   "outputs": [],
   "source": [
    "import pandas as pd\n",
    "pd.set_option('max_rows', 5)"
   ]
  },
  {
   "cell_type": "markdown",
   "metadata": {},
   "source": [
    "The code below will load the data into Pandas. You must first download and unzip the data from the following link: https://www.kaggle.com/zynicide/wine-reviews/downloads/winemag-data-130k-v2.csv/4"
   ]
  },
  {
   "cell_type": "code",
   "execution_count": null,
   "metadata": {
    "collapsed": true
   },
   "outputs": [],
   "source": [
    "# the code below will load the data once you have downloaded \n",
    "# it and extracted it into the current working folder\n",
    "reviews = pd.read_csv(\"winemag-data-130k-v2.csv\", index_col=0)"
   ]
  },
  {
   "cell_type": "markdown",
   "metadata": {
    "_cell_guid": "7b79bbf8-1136-4207-8bcc-9b7ddc432e70",
    "_uuid": "41205e08261d0d382e8eb6366be9bfa6c3d3d831"
   },
   "source": [
    "# Exercises\n",
    "\n",
    "Look at your data by running the cell below:"
   ]
  },
  {
   "cell_type": "code",
   "execution_count": null,
   "metadata": {
    "_uuid": "cd0641ea913b3e17cc230b26540dcd3fe63c8610",
    "collapsed": true
   },
   "outputs": [],
   "source": [
    "reviews.head()"
   ]
  },
  {
   "cell_type": "markdown",
   "metadata": {
    "_cell_guid": "7a605a36-08d4-45f1-9b13-b3202751f8e6",
    "_uuid": "03a58c68581ef05bbf83c9a085721a9321e1ad38"
   },
   "source": [
    "**Exercise 1**: `region_1` and `region_2` are pretty uninformative names for locale columns in the dataset. Rename these columns to `region` and `locale`."
   ]
  },
  {
   "cell_type": "code",
   "execution_count": null,
   "metadata": {
    "_cell_guid": "f9c4fbe3-1733-434d-9b13-5ccf021d8bd6",
    "_uuid": "de765f7dd44c704ecd9dc13bc335f46075182d93",
    "collapsed": true
   },
   "outputs": [],
   "source": [
    "# Your code here"
   ]
  },
  {
   "cell_type": "markdown",
   "metadata": {
    "_cell_guid": "bd41facd-c1af-4766-b8a0-1f5929d5415f",
    "_uuid": "0fe8fd38b4b5934924b54d0ecd78938ec491239d"
   },
   "source": [
    "**Exercise 2**: Set the index name in the dataset to `wines`."
   ]
  },
  {
   "cell_type": "code",
   "execution_count": null,
   "metadata": {
    "_cell_guid": "3762866a-47d0-496b-b499-f81732dc963d",
    "_uuid": "0b6ee2a0355e06d1acfdcaba5a0163d196cca5e4",
    "collapsed": true
   },
   "outputs": [],
   "source": [
    "# Your code here"
   ]
  },
  {
   "cell_type": "markdown",
   "metadata": {
    "_cell_guid": "894ec88e-9510-49f1-bf37-d0ead0054a89",
    "_uuid": "65cf08dd44419d2b321daea399f51a0268c1ca57"
   },
   "source": [
    "**Exercise 3**: The [Things on Reddit](https://www.kaggle.com/residentmario/things-on-reddit/data) dataset includes product links from a selection of top-ranked forums (\"subreddits\") on Reddit.com. Use the `'r/gaming.csv'` data and the `r/movies.csv` data. Create a `DataFrame` of products mentioned on *either* subreddit. You can download the data from here: https://www.kaggle.com/residentmario/things-on-reddit/data"
   ]
  },
  {
   "cell_type": "code",
   "execution_count": null,
   "metadata": {
    "_cell_guid": "2abc7da3-d8e1-490e-9623-9b6535347a9c",
    "_uuid": "fff720e4f35ba821931ee96e10777e0aad1835a6",
    "collapsed": true
   },
   "outputs": [],
   "source": [
    "gaming_products = pd.read_csv(\"gaming.csv\")\n",
    "gaming_products['subreddit'] = \"r/gaming\"\n",
    "movie_products = pd.read_csv(\"movies.csv\")\n",
    "movie_products['subreddit'] = \"r/movies\""
   ]
  },
  {
   "cell_type": "code",
   "execution_count": null,
   "metadata": {
    "_cell_guid": "0e429416-9b17-480e-9d26-b06f49194259",
    "_uuid": "9d6c380351af95bac9564a7df251e96249037193",
    "collapsed": true
   },
   "outputs": [],
   "source": [
    "# Your code here"
   ]
  },
  {
   "cell_type": "markdown",
   "metadata": {
    "_cell_guid": "6b71e901-b9e4-43a9-87c9-e72262d2db02",
    "_uuid": "82629a1d21e0ac3d4c143bb1f97368ef59193eb7"
   },
   "source": [
    "**Exercise 4**: The [Powerlifting Database](https://www.kaggle.com/open-powerlifting/powerlifting-database) dataset on Kaggle includes one CSV table for powerlifting meets and a separate one for powerlifting competitors. Both tables include references to a `MeetID`, a unique key for each meet (competition) included in the database. Using this, generate a dataset combining the two tables into one. Use the `meets.csv` data and the `openpowerlifting.csv` data from here: \n",
    "\n",
    " - meets.csv: https://www.kaggle.com/open-powerlifting/powerlifting-database/downloads/meets.csv/1\n",
    " - openpowerlifiting.csv: https://www.kaggle.com/open-powerlifting/powerlifting-database/downloads/openpowerlifting.csv/1"
   ]
  },
  {
   "cell_type": "code",
   "execution_count": null,
   "metadata": {
    "_cell_guid": "198c82e5-904a-4be3-a29f-d6a366bc4cc4",
    "_uuid": "6eef34e09315e275ca34eaee10d6a9c85ef277a2",
    "collapsed": true
   },
   "outputs": [],
   "source": [
    "powerlifting_meets = pd.read_csv(\"meets.csv\")\n",
    "powerlifting_competitors = pd.read_csv(\"openpowerlifting.csv\")"
   ]
  },
  {
   "cell_type": "code",
   "execution_count": null,
   "metadata": {
    "_cell_guid": "e15c6c6b-0080-4428-b4ab-32b605f48c49",
    "_uuid": "0ba2685b574f391bd66ba9baa8ccbcd9dd658833",
    "collapsed": true
   },
   "outputs": [],
   "source": [
    "# Your code here"
   ]
  }
 ],
 "metadata": {
  "kernelspec": {
   "display_name": "Python 3",
   "language": "python",
   "name": "python3"
  },
  "language_info": {
   "codemirror_mode": {
    "name": "ipython",
    "version": 3
   },
   "file_extension": ".py",
   "mimetype": "text/x-python",
   "name": "python",
   "nbconvert_exporter": "python",
   "pygments_lexer": "ipython3",
   "version": "3.6.2"
  },
  "varInspector": {
   "cols": {
    "lenName": 16,
    "lenType": 16,
    "lenVar": 40
   },
   "kernels_config": {
    "python": {
     "delete_cmd_postfix": "",
     "delete_cmd_prefix": "del ",
     "library": "var_list.py",
     "varRefreshCmd": "print(var_dic_list())"
    },
    "r": {
     "delete_cmd_postfix": ") ",
     "delete_cmd_prefix": "rm(",
     "library": "var_list.r",
     "varRefreshCmd": "cat(var_dic_list()) "
    }
   },
   "types_to_exclude": [
    "module",
    "function",
    "builtin_function_or_method",
    "instance",
    "_Feature"
   ],
   "window_display": false
  }
 },
 "nbformat": 4,
 "nbformat_minor": 1
}
