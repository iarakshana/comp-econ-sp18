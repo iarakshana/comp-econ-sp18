{
 "cells": [
  {
   "cell_type": "markdown",
   "metadata": {},
   "source": [
    "# Intructions\n",
    "\n",
    "A blank code or markup cell will be left after each exercise for you to fill in with your solution.\n",
    "\n",
    "This part of the HW is based on data from an article from the New York Times's blog, *The Upshot*. In an article titled, <a href=\"https://www.nytimes.com/interactive/2015/02/17/upshot/what-do-people-actually-order-at-chipotle.html\"> \"At Chipotle, How Many Calories Do People Really Eat?\" </a>, the authors use data from about 1,800 Chipotle orders made on GrubHub. The data from this article is available here on GitHub: https://github.com/TheUpshot/chipotle . In this part of the HW, we use the data that they provide to practice working with real data. This assignment will give us some practice on manipulating, summarizing, and visualizing data with Pandas and Python.\n",
    "\n",
    "\n",
    "## Description of the Data\n",
    "\n",
    "From the NYTimes article, \n",
    "\n",
    "> The data is based on about 3,000 meals in about 1,800 Grubhub orders from July to December 2012, almost all from two Chipotle restaurants: one in Washington, D.C., and another in East Lansing, Mich. ... We assume people eat only one salad, burrito bowl, burrito or set of tacos at a time. When there’s more than one of those items in an order, we assume it’s for more than one person. And we assume that groups of people who order together split side items, like chips. That’s probably untrue — there’s always one guy who eats more — but assumptions about chip division don’t have a huge impact on the overall shape of our histogram.\n",
    "\n",
    "\n",
    "### (Grading: 2 points per part)\n",
    "\n"
   ]
  },
  {
   "cell_type": "markdown",
   "metadata": {},
   "source": [
    "# Load Data"
   ]
  },
  {
   "cell_type": "markdown",
   "metadata": {},
   "source": [
    "This time we are going to pull data directly from the internet. \n",
    "\n",
    "### 1. Import the necessary libraries"
   ]
  },
  {
   "cell_type": "code",
   "execution_count": null,
   "metadata": {
    "collapsed": true
   },
   "outputs": [],
   "source": []
  },
  {
   "cell_type": "markdown",
   "metadata": {},
   "source": [
    "### 2. Import the dataset from the Upshot's GitHub page\n",
    "\n",
    "You can access the raw file using the following url: https://raw.githubusercontent.com/TheUpshot/chipotle/master/orders.tsv\n",
    "\n",
    "```python\n",
    "url = 'https://raw.githubusercontent.com/TheUpshot/chipotle/master/orders.tsv'\n",
    "# You must choose the correct separator character\n",
    "#separator = ?\n",
    "chipo = pd.read_csv(url, sep = separator)\n",
    "```\n",
    "\n",
    "Import the data and assign it to a variable called `chipo`."
   ]
  },
  {
   "cell_type": "code",
   "execution_count": null,
   "metadata": {
    "collapsed": true
   },
   "outputs": [],
   "source": []
  },
  {
   "cell_type": "markdown",
   "metadata": {},
   "source": [
    "### 3. Display the first and last 10 entries\n",
    "\n",
    "Use `head` and `tail` to display the first and last 10 entries."
   ]
  },
  {
   "cell_type": "code",
   "execution_count": null,
   "metadata": {
    "collapsed": true
   },
   "outputs": [],
   "source": []
  },
  {
   "cell_type": "markdown",
   "metadata": {},
   "source": [
    "### 4. Print Info about the DataFrame\n",
    "\n",
    "Use the `info` method to print data about the DataFrame"
   ]
  },
  {
   "cell_type": "code",
   "execution_count": null,
   "metadata": {
    "collapsed": true
   },
   "outputs": [],
   "source": []
  },
  {
   "cell_type": "markdown",
   "metadata": {},
   "source": [
    "### 5. What is the number of observations in the dataset?"
   ]
  },
  {
   "cell_type": "code",
   "execution_count": null,
   "metadata": {
    "collapsed": true
   },
   "outputs": [],
   "source": []
  },
  {
   "cell_type": "markdown",
   "metadata": {},
   "source": [
    "### 6. What is the number of columns in the dataset?"
   ]
  },
  {
   "cell_type": "code",
   "execution_count": null,
   "metadata": {
    "collapsed": true
   },
   "outputs": [],
   "source": []
  },
  {
   "cell_type": "markdown",
   "metadata": {},
   "source": [
    "### 7. Print the name of all the columns."
   ]
  },
  {
   "cell_type": "code",
   "execution_count": null,
   "metadata": {
    "collapsed": true
   },
   "outputs": [],
   "source": []
  },
  {
   "cell_type": "markdown",
   "metadata": {},
   "source": [
    "### 8. Describe how the dataset is indexed."
   ]
  },
  {
   "cell_type": "code",
   "execution_count": null,
   "metadata": {
    "collapsed": true
   },
   "outputs": [],
   "source": []
  },
  {
   "cell_type": "markdown",
   "metadata": {},
   "source": [
    "### 9. How many items were ordered in total?"
   ]
  },
  {
   "cell_type": "code",
   "execution_count": null,
   "metadata": {
    "collapsed": true
   },
   "outputs": [],
   "source": []
  },
  {
   "cell_type": "markdown",
   "metadata": {},
   "source": [
    "### 10. What were the 5 most ordered item? Do this twice, once using `groupby` and once using `pivot_table`.\n",
    "\n",
    "Group orders by item name (only item name) and sum the quantities ordered for each item. Sort by quantity and print the top 5.\n",
    "Show two ways to do this: (1) Do it using `groupby` and (2) using `pivot_table`. You should get the same result for each."
   ]
  },
  {
   "cell_type": "code",
   "execution_count": null,
   "metadata": {
    "collapsed": true
   },
   "outputs": [],
   "source": []
  },
  {
   "cell_type": "markdown",
   "metadata": {},
   "source": [
    "### 11. What were the most ordered items in the choice_description column?\n",
    "\n",
    "Group orders by `choice_description` and sum the quantities ordered for each item. Sort by quantity and print the top 5."
   ]
  },
  {
   "cell_type": "code",
   "execution_count": null,
   "metadata": {
    "collapsed": true
   },
   "outputs": [],
   "source": []
  },
  {
   "cell_type": "markdown",
   "metadata": {},
   "source": [
    "### 12. Turn the item price into a float using `apply`\n",
    "\n",
    "Usually this kind of data cleaning and reformatting would be one of the first things that we do when we load the dataset. However, for the sake of the progression of the HW, I have placed it here. Do this using the `apply` method."
   ]
  },
  {
   "cell_type": "code",
   "execution_count": null,
   "metadata": {
    "collapsed": true
   },
   "outputs": [],
   "source": []
  },
  {
   "cell_type": "markdown",
   "metadata": {},
   "source": [
    "### 13. How many orders were made in the period?"
   ]
  },
  {
   "cell_type": "code",
   "execution_count": null,
   "metadata": {
    "collapsed": true
   },
   "outputs": [],
   "source": []
  },
  {
   "cell_type": "markdown",
   "metadata": {},
   "source": [
    "### 14. What does `item_price` mean?\n",
    "\n",
    "Filter out all rows that represent a purchase of a '6 Pack Soft Drink'. Notice that the quantity for each row is not always equal to one. From what you can tell, what is the proper interpretation of `item_price`?\n",
    "\n",
    "\n",
    "\n"
   ]
  },
  {
   "cell_type": "code",
   "execution_count": null,
   "metadata": {
    "collapsed": true
   },
   "outputs": [],
   "source": []
  },
  {
   "cell_type": "markdown",
   "metadata": {},
   "source": [
    "### 15. How much was the total revenue represented by the dataset?\n",
    "\n",
    "Once we know the proper interpretation of `item_price`, this should be very easy."
   ]
  },
  {
   "cell_type": "code",
   "execution_count": null,
   "metadata": {
    "collapsed": true
   },
   "outputs": [],
   "source": []
  },
  {
   "cell_type": "markdown",
   "metadata": {},
   "source": [
    "### 16. What is the average revenue per order?"
   ]
  },
  {
   "cell_type": "code",
   "execution_count": null,
   "metadata": {
    "collapsed": true
   },
   "outputs": [],
   "source": []
  },
  {
   "cell_type": "markdown",
   "metadata": {},
   "source": [
    "### 17. How many different items are sold?\n",
    "\n",
    "Count the unique number of items by `item_name`."
   ]
  },
  {
   "cell_type": "code",
   "execution_count": null,
   "metadata": {
    "collapsed": true
   },
   "outputs": [],
   "source": []
  },
  {
   "cell_type": "markdown",
   "metadata": {},
   "source": [
    "### 18. How many rows have `item_price` greater than $10.00?\n",
    "\n",
    "How many rows are there that have `item_price` greater than 10?"
   ]
  },
  {
   "cell_type": "code",
   "execution_count": null,
   "metadata": {
    "collapsed": true
   },
   "outputs": [],
   "source": []
  },
  {
   "cell_type": "markdown",
   "metadata": {},
   "source": [
    "### 19. Filter out the rows corresponding to the Barbacoa Bowl. Give two reasons why the item price might vary."
   ]
  },
  {
   "cell_type": "code",
   "execution_count": null,
   "metadata": {
    "collapsed": true
   },
   "outputs": [],
   "source": []
  },
  {
   "cell_type": "markdown",
   "metadata": {},
   "source": [
    "### 20. What is the average unit price of each item ordered? \n",
    "\n",
    "Print a DataFrame with only two columns item_name and ave_item_price. There should be only one row for each item. Sort the DataFrame from lowest average price to highest average price. The \"unit price\" should be different from the \"item price.\" The unit price compensates for the fact that sometimes the quantity is not one. Recall the proper interpretation of `item_price` above."
   ]
  },
  {
   "cell_type": "code",
   "execution_count": null,
   "metadata": {
    "collapsed": true
   },
   "outputs": [],
   "source": []
  },
  {
   "cell_type": "markdown",
   "metadata": {},
   "source": [
    "### 21. Display average item prices and items (from before), sorted alphabetically by item name."
   ]
  },
  {
   "cell_type": "code",
   "execution_count": null,
   "metadata": {
    "collapsed": true
   },
   "outputs": [],
   "source": []
  },
  {
   "cell_type": "markdown",
   "metadata": {},
   "source": [
    "### 22. What was the quantity of the most expensive line item on a receipt?\n",
    "That is, look for the row with the highest `item_price`. What is the quantity ordered on that line item?"
   ]
  },
  {
   "cell_type": "code",
   "execution_count": null,
   "metadata": {
    "collapsed": true
   },
   "outputs": [],
   "source": []
  },
  {
   "cell_type": "markdown",
   "metadata": {},
   "source": [
    "### 23. How many times did a Veggie Salad Bowl show up in an order?\n",
    "\n",
    "That is, how many orders in our data set contained at least one Veggie Salad Bowl?"
   ]
  },
  {
   "cell_type": "code",
   "execution_count": null,
   "metadata": {
    "collapsed": true
   },
   "outputs": [],
   "source": []
  },
  {
   "cell_type": "markdown",
   "metadata": {},
   "source": [
    "### 24. How many times people did people order more than one Bottled Water?"
   ]
  },
  {
   "cell_type": "code",
   "execution_count": null,
   "metadata": {
    "collapsed": true
   },
   "outputs": [],
   "source": []
  },
  {
   "cell_type": "markdown",
   "metadata": {},
   "source": [
    "### 25. Create a bar chart showing the 5 most ordered items\n",
    "\n",
    "The y axis should be the quantity ordered. There should be 5 distinct bars with the label of the item underneath. Use Pandas' built-in bar plotting function. See here: https://pandas.pydata.org/pandas-docs/stable/generated/pandas.DataFrame.plot.bar.html . For more information about built-in visualization with Pandas, see here: https://pandas.pydata.org/pandas-docs/stable/visualization.html"
   ]
  },
  {
   "cell_type": "code",
   "execution_count": null,
   "metadata": {
    "collapsed": true
   },
   "outputs": [],
   "source": []
  },
  {
   "cell_type": "markdown",
   "metadata": {},
   "source": [
    "### 26. Approximately how many hours did you take to complete the full assignment? (Parts 1,2, and 3)"
   ]
  },
  {
   "cell_type": "code",
   "execution_count": null,
   "metadata": {
    "collapsed": true
   },
   "outputs": [],
   "source": []
  }
 ],
 "metadata": {
  "kernelspec": {
   "display_name": "Python 3",
   "language": "python",
   "name": "python3"
  },
  "language_info": {
   "codemirror_mode": {
    "name": "ipython",
    "version": 3
   },
   "file_extension": ".py",
   "mimetype": "text/x-python",
   "name": "python",
   "nbconvert_exporter": "python",
   "pygments_lexer": "ipython3",
   "version": "3.6.2"
  },
  "varInspector": {
   "cols": {
    "lenName": 16,
    "lenType": 16,
    "lenVar": 40
   },
   "kernels_config": {
    "python": {
     "delete_cmd_postfix": "",
     "delete_cmd_prefix": "del ",
     "library": "var_list.py",
     "varRefreshCmd": "print(var_dic_list())"
    },
    "r": {
     "delete_cmd_postfix": ") ",
     "delete_cmd_prefix": "rm(",
     "library": "var_list.r",
     "varRefreshCmd": "cat(var_dic_list()) "
    }
   },
   "types_to_exclude": [
    "module",
    "function",
    "builtin_function_or_method",
    "instance",
    "_Feature"
   ],
   "window_display": false
  }
 },
 "nbformat": 4,
 "nbformat_minor": 2
}
